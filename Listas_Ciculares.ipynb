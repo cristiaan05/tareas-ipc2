{
  "nbformat": 4,
  "nbformat_minor": 0,
  "metadata": {
    "colab": {
      "name": "Listas Ciculares.ipynb",
      "provenance": [],
      "authorship_tag": "ABX9TyPFFSWSpDXmCdqx21FMhFw1",
      "include_colab_link": true
    },
    "kernelspec": {
      "name": "python3",
      "display_name": "Python 3"
    },
    "language_info": {
      "name": "python"
    }
  },
  "cells": [
    {
      "cell_type": "markdown",
      "metadata": {
        "id": "view-in-github",
        "colab_type": "text"
      },
      "source": [
        "<a href=\"https://colab.research.google.com/github/cristiaan05/tareas-ipc2/blob/main/Listas_Ciculares.ipynb\" target=\"_parent\"><img src=\"https://colab.research.google.com/assets/colab-badge.svg\" alt=\"Open In Colab\"/></a>"
      ]
    },
    {
      "cell_type": "code",
      "metadata": {
        "id": "AG-414dQwc5v"
      },
      "source": [
        ""
      ],
      "execution_count": 35,
      "outputs": []
    },
    {
      "cell_type": "markdown",
      "metadata": {
        "id": "AiOs111nwo8e"
      },
      "source": [
        "**Lista circular**"
      ]
    },
    {
      "cell_type": "markdown",
      "metadata": {
        "id": "NiyPcFAdwtjy"
      },
      "source": [
        "Definición de la clase"
      ]
    },
    {
      "cell_type": "code",
      "metadata": {
        "id": "HHxg4DV_wq2T"
      },
      "source": [
        "class estudiante:\n",
        "  def __init__ (self, carne, nombre, edad, direccion, telefono, email, carrera, puesto):\n",
        "    self.carne = carne\n",
        "    self.nombre = nombre\n",
        "    self.edad = edad\n",
        "    self.direccion = direccion\n",
        "    self.telefono = telefono\n",
        "    self.email = email\n",
        "    self.carrera = carrera\n",
        "    self.puesto = puesto    "
      ],
      "execution_count": 36,
      "outputs": []
    },
    {
      "cell_type": "markdown",
      "metadata": {
        "id": "K2kiG0SDw4om"
      },
      "source": [
        "\n",
        "**Definición de la clase Nodo**"
      ]
    },
    {
      "cell_type": "code",
      "metadata": {
        "id": "vcc1iss7w0HQ"
      },
      "source": [
        "class nodo:\n",
        "  def __init__ (self, estudiante=None, siguiente=None):\n",
        "    self.estudiante = estudiante\n",
        "    self.siguiente = siguiente\n"
      ],
      "execution_count": 37,
      "outputs": []
    },
    {
      "cell_type": "code",
      "metadata": {
        "id": "Qd1519xpw_N9"
      },
      "source": [
        "class lista_circular:\n",
        "  def __init__ (self):\n",
        "    self.primero = None\n",
        "  \n",
        "  def insertar(self, estudiante):\n",
        "    if self.primero is None:\n",
        "      self.primero = nodo(estudiante=estudiante)\n",
        "      self.primero.siguiente = self.primero\n",
        "    else:\n",
        "      actual = nodo(estudiante=estudiante, siguiente=self.primero.siguiente)\n",
        "      self.primero.siguiente=actual\n",
        "  \n",
        "  def recorrer(self):\n",
        "    if self.primero is None:\n",
        "      return\n",
        "    actual = self.primero\n",
        "    print(\"carne\",actual.estudiante.carne,\"nombre:\",actual.estudiante.nombre,\"email:\",actual.estudiante.email,\"->\")\n",
        "    while actual.siguiente != self.primero:\n",
        "      actual = actual.siguiente\n",
        "      print(\"carne\",actual.estudiante.carne,\"nombre:\",actual.estudiante.nombre,\"email:\",actual.estudiante.email,\"->\")\n",
        "\n",
        "  def eliminar(self, carne):\n",
        "    actual = self.primero\n",
        "    anterior = None\n",
        "  \n",
        "    while actual and actual.estudiante.carne != None:\n",
        "      anterior = actual\n",
        "      actual = actual.siguiente\n",
        "      if actual == self.primero:\n",
        "        break\n",
        "\n",
        "    if anterior is None:\n",
        "      anterior.siguiente = actual.siguiente\n",
        "    else:\n",
        "      while actual.siguiente != self.primero:\n",
        "        actual = actual.siguiente\n",
        "      actual.siguiente = self.primero.siguiente\n",
        "      self.primero = self.primero.siguiente\n",
        "\n",
        "  def buscar(self,carne):\n",
        "    actual=self.primero\n",
        "    anterior=None\n",
        "    noEsta=False\n",
        "    while actual and actual.estudiante.carne != carne:\n",
        "      anterior=actual\n",
        "      actual=actual.siguiente\n",
        "      if actual==self.primero:\n",
        "        noEsta=True\n",
        "        break\n",
        "    if not noEsta:\n",
        "      while actual !=None:\n",
        "        if actual.estudiante.carne == carne:\n",
        "            print(\"carne: \", actual.estudiante.carne, \"nombre: \", actual.estudiante.nombre, \"email: \", actual.estudiante.email, \"->\" )\n",
        "            break \n",
        "        else:\n",
        "            actual = actual.siguiente\n",
        "    else:\n",
        "      print(\"El dato buscado no existe\")\n",
        "    "
      ],
      "execution_count": 38,
      "outputs": []
    },
    {
      "cell_type": "markdown",
      "metadata": {
        "id": "g2zdmDgjxFjF"
      },
      "source": [
        "CREACION DE OBJETOS ESTUDIANTE"
      ]
    },
    {
      "cell_type": "code",
      "metadata": {
        "id": "wp407HrPxBtV"
      },
      "source": [
        "e1=estudiante(201904053,\"Gerson Ortiz\",20,\"9 calle 10-02 zona 1\",2444401,\"gerson.ortiz@gmail.com\",\"Ingenieria en sistemas\",\"Programador Jr\")\n",
        "e2=estudiante(201904820,\"Karen Hurtarte\",21,\"7 calle 10-01 zona 7\",1452369,\"karen.hurtarte@gmail.com\",\"Ingenieria en sistemas\",\"Programador Jr\")\n",
        "e3=estudiante(202110312,\"Luis  Mendez\",22,\"14 calle 18-1 zona 5\",14526320,\"luis.mendez@gmail.com\",\"Ingenieria en sistemas\",\"Programador Jr\")"
      ],
      "execution_count": 39,
      "outputs": []
    },
    {
      "cell_type": "markdown",
      "metadata": {
        "id": "Ihkut8hsxLTg"
      },
      "source": [
        "**INSERCION**"
      ]
    },
    {
      "cell_type": "code",
      "metadata": {
        "id": "HVNSHny4xJw_"
      },
      "source": [
        "lista_c=lista_circular()\n",
        "lista_c.insertar(e1)\n",
        "lista_c.insertar(e2)\n",
        "lista_c.insertar(e3)"
      ],
      "execution_count": 40,
      "outputs": []
    },
    {
      "cell_type": "markdown",
      "metadata": {
        "id": "49JmjRlrxSLY"
      },
      "source": [
        "**Recorrer Lista**"
      ]
    },
    {
      "cell_type": "code",
      "metadata": {
        "colab": {
          "base_uri": "https://localhost:8080/"
        },
        "id": "D2lBEnr7xO7n",
        "outputId": "aa74c13f-3cb4-47f4-de4c-f5c1e7671a2b"
      },
      "source": [
        "lista_c.recorrer()"
      ],
      "execution_count": 41,
      "outputs": [
        {
          "output_type": "stream",
          "text": [
            "carne 201904053 nombre: Gerson Ortiz email: gerson.ortiz@gmail.com ->\n",
            "carne 202110312 nombre: Luis  Mendez email: luis.mendez@gmail.com ->\n",
            "carne 201904820 nombre: Karen Hurtarte email: karen.hurtarte@gmail.com ->\n"
          ],
          "name": "stdout"
        }
      ]
    },
    {
      "cell_type": "markdown",
      "metadata": {
        "id": "vHwfZ7j7xaXG"
      },
      "source": [
        "**Eliminar NODO Lista**"
      ]
    },
    {
      "cell_type": "code",
      "metadata": {
        "id": "35b3O1SwxWfr"
      },
      "source": [
        "lista_c.eliminar(202110312)"
      ],
      "execution_count": 42,
      "outputs": []
    },
    {
      "cell_type": "code",
      "metadata": {
        "colab": {
          "base_uri": "https://localhost:8080/"
        },
        "id": "LzPLJu0Nxfh4",
        "outputId": "96394223-5e8c-4fa1-d471-bd3d09c53cb3"
      },
      "source": [
        "lista_c.recorrer()"
      ],
      "execution_count": 43,
      "outputs": [
        {
          "output_type": "stream",
          "text": [
            "carne 202110312 nombre: Luis  Mendez email: luis.mendez@gmail.com ->\n",
            "carne 201904820 nombre: Karen Hurtarte email: karen.hurtarte@gmail.com ->\n"
          ],
          "name": "stdout"
        }
      ]
    },
    {
      "cell_type": "code",
      "metadata": {
        "id": "chfRYVKhxhfU",
        "colab": {
          "base_uri": "https://localhost:8080/"
        },
        "outputId": "f3853435-f3cc-4029-b9e9-d8dec06abf60"
      },
      "source": [
        "lista_c.buscar(202110312)"
      ],
      "execution_count": 44,
      "outputs": [
        {
          "output_type": "stream",
          "text": [
            "carne:  202110312 nombre:  Luis  Mendez email:  luis.mendez@gmail.com ->\n"
          ],
          "name": "stdout"
        }
      ]
    }
  ]
}